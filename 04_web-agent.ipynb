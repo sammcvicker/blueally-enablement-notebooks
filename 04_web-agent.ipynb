{
 "cells": [
  {
   "cell_type": "markdown",
   "id": "c5b2eca7-5141-427b-9ac7-09bd488851e8",
   "metadata": {},
   "source": [
    "# Research Agent with Multi-Tool Orchestration"
   ]
  },
  {
   "cell_type": "code",
   "execution_count": 1,
   "id": "1a7a0acc-dcb7-4875-b762-d61f5f7bd1a5",
   "metadata": {},
   "outputs": [],
   "source": [
    "from kamiwaza_client import KamiwazaClient\n",
    "from pydantic import BaseModel, Field\n",
    "from typing import Dict, Any\n",
    "import json\n",
    "import time\n",
    "import requests\n"
   ]
  },
  {
   "cell_type": "code",
   "execution_count": 2,
   "id": "bf78630a-e2d5-4562-b639-d68c3314a4e6",
   "metadata": {},
   "outputs": [
    {
     "name": "stdout",
     "output_type": "stream",
     "text": [
      "Active deployments: [ActiveModelDeployment(id=UUID('9974c1d7-444d-4f78-9bf6-30ecef701d43'), m_id=UUID('c45afd07-17b5-4509-b026-33c43e3b5467'), m_name='Qwen3-32B-AWQ', status='DEPLOYED', instances=[ModelInstance:\n",
      "ID: 70b4c6ea-41fa-458a-8e0a-2555c262a654\n",
      "Deployment ID: 9974c1d7-444d-4f78-9bf6-30ecef701d43\n",
      "Status: DEPLOYED\n",
      "Listen Port: 32775], lb_port=51105, endpoint='http://34.230.49.204:51105/v1')]\n"
     ]
    }
   ],
   "source": [
    "# Initialize Kamiwaza client\n",
    "client = KamiwazaClient(\"http://34.230.49.204:7777/api/\")\n",
    "print(\"Active deployments:\", client.serving.list_active_deployments())\n",
    "\n",
    "# Get OpenAI-compatible client\n",
    "openai_client = client.openai.get_client('Qwen3-32B-AWQ')\n",
    "\n",
    "# Brave Search API key\n",
    "BRAVE_API_KEY = \"BSAGjYS3hVm2VweZ_D8iG4VPt1Xzj5D\""
   ]
  },
  {
   "cell_type": "code",
   "execution_count": 3,
   "id": "88ff225d-2723-4fa9-b4ed-b2a4ff682b10",
   "metadata": {},
   "outputs": [
    {
     "name": "stdout",
     "output_type": "stream",
     "text": [
      "✅ Research tools registered and ready!\n"
     ]
    },
    {
     "name": "stderr",
     "output_type": "stream",
     "text": [
      "/var/folders/mc/ls40y_m57zz0hw7gjzblhxpc0000gn/T/ipykernel_87128/2777872817.py:82: PydanticDeprecatedSince20: The `schema` method is deprecated; use `model_json_schema` instead. Deprecated in Pydantic V2.0 to be removed in V3.0. See Pydantic V2 Migration Guide at https://errors.pydantic.dev/2.11/migration/\n",
      "  \"parameters\": WebSearchParams.schema()\n",
      "/var/folders/mc/ls40y_m57zz0hw7gjzblhxpc0000gn/T/ipykernel_87128/2777872817.py:90: PydanticDeprecatedSince20: The `schema` method is deprecated; use `model_json_schema` instead. Deprecated in Pydantic V2.0 to be removed in V3.0. See Pydantic V2 Migration Guide at https://errors.pydantic.dev/2.11/migration/\n",
      "  \"parameters\": CreateReportParams.schema()\n"
     ]
    }
   ],
   "source": [
    "# Tool parameter schemas\n",
    "class WebSearchParams(BaseModel):\n",
    "    query: str = Field(..., description=\"Search query to find information on the web\")\n",
    "\n",
    "class CreateReportParams(BaseModel):\n",
    "    title: str = Field(..., description=\"Title of the research report\")\n",
    "    sections: Dict[str, str] = Field(..., description=\"Dictionary mapping section names to content\")\n",
    "\n",
    "# Brave search implementation\n",
    "def web_search(query: str) -> Dict[str, Any]:\n",
    "    \"\"\"Search the web using Brave Search API\"\"\"\n",
    "    print(f\"\\n🔍 Searching for: '{query}'\")\n",
    "    \n",
    "    url = \"https://api.search.brave.com/res/v1/web/search\"\n",
    "    headers = {\n",
    "        \"Accept\": \"application/json\",\n",
    "        \"X-Subscription-Token\": BRAVE_API_KEY\n",
    "    }\n",
    "    params = {\n",
    "        \"q\": query,\n",
    "        \"count\": 5  # Get top 5 results\n",
    "    }\n",
    "    \n",
    "    try:\n",
    "        response = requests.get(url, headers=headers, params=params)\n",
    "        response.raise_for_status()\n",
    "        data = response.json()\n",
    "        \n",
    "        # Extract relevant information from results\n",
    "        results = []\n",
    "        for item in data.get(\"web\", {}).get(\"results\", [])[:5]:\n",
    "            results.append({\n",
    "                \"title\": item.get(\"title\", \"\"),\n",
    "                \"url\": item.get(\"url\", \"\"),\n",
    "                \"description\": item.get(\"description\", \"\"),\n",
    "                \"age\": item.get(\"age\", \"\")\n",
    "            })\n",
    "        \n",
    "        return {\n",
    "            \"query\": query,\n",
    "            \"results\": results,\n",
    "            \"status\": \"success\"\n",
    "        }\n",
    "    except Exception as e:\n",
    "        return {\n",
    "            \"query\": query,\n",
    "            \"results\": [],\n",
    "            \"status\": \"error\",\n",
    "            \"error\": str(e)\n",
    "        }\n",
    "\n",
    "# Report creation implementation\n",
    "def create_report(title: str, sections: Dict[str, str]) -> Dict[str, Any]:\n",
    "    \"\"\"Create a formatted research report\"\"\"\n",
    "    print(f\"\\n📝 Creating report: '{title}'\")\n",
    "    \n",
    "    # Format the report\n",
    "    report = f\"# {title}\\n\\n\"\n",
    "    report += f\"*Generated on: {time.strftime('%Y-%m-%d %H:%M:%S')}*\\n\\n\"\n",
    "    \n",
    "    for section_name, content in sections.items():\n",
    "        report += f\"## {section_name}\\n\\n{content}\\n\\n\"\n",
    "    \n",
    "    # Save to a file (optional)\n",
    "    filename = f\"research_report_{int(time.time())}.md\"\n",
    "    with open(filename, 'w') as f:\n",
    "        f.write(report)\n",
    "    \n",
    "    return {\n",
    "        \"status\": \"success\",\n",
    "        \"filename\": filename,\n",
    "        \"preview\": report[:500] + \"...\" if len(report) > 500 else report\n",
    "    }\n",
    "\n",
    "# Tool schemas for OpenAI SDK\n",
    "tool_schemas = [\n",
    "    {\n",
    "        \"type\": \"function\",\n",
    "        \"function\": {\n",
    "            \"name\": \"web_search\",\n",
    "            \"description\": \"Search the web for information on any topic\",\n",
    "            \"parameters\": WebSearchParams.schema()\n",
    "        }\n",
    "    },\n",
    "    {\n",
    "        \"type\": \"function\",\n",
    "        \"function\": {\n",
    "            \"name\": \"create_report\",\n",
    "            \"description\": \"Create a formatted research report with sections\",\n",
    "            \"parameters\": CreateReportParams.schema()\n",
    "        }\n",
    "    }\n",
    "]\n",
    "\n",
    "# Tool registry\n",
    "tool_registry = {\n",
    "    \"web_search\": web_search,\n",
    "    \"create_report\": create_report\n",
    "}\n",
    "\n",
    "print(\"✅ Research tools registered and ready!\")\n"
   ]
  },
  {
   "cell_type": "markdown",
   "id": "cf84ec47-b43c-432b-86bf-1a1f730fc3a7",
   "metadata": {},
   "source": [
    "## Research Agent System Prompt"
   ]
  },
  {
   "cell_type": "code",
   "execution_count": 4,
   "id": "3de1f377-657b-403d-8c35-2464ce7ba416",
   "metadata": {},
   "outputs": [],
   "source": [
    "RESEARCH_AGENT_PROMPT = \"\"\"You are an expert research assistant with access to web search and report creation tools. Your goal is to conduct thorough, balanced research on any topic given to you.\n",
    "\n",
    "## Your Research Process:\n",
    "1. **Plan**: Break down the research topic into key aspects to investigate\n",
    "2. **Search**: Use web_search to gather information from multiple angles\n",
    "3. **Analyze**: Extract key findings, identify patterns, and note different viewpoints\n",
    "4. **Synthesize**: Organize your findings into a coherent, balanced report\n",
    "\n",
    "## Guidelines:\n",
    "- Always search for multiple perspectives (pros/cons, different viewpoints, recent developments)\n",
    "- Make 3-5 targeted searches to gather comprehensive information\n",
    "- Look for credible sources and recent information\n",
    "- Present balanced findings, acknowledging different viewpoints\n",
    "- Use the create_report tool to produce a well-structured final report\n",
    "\n",
    "## Report Structure:\n",
    "Your reports should typically include:\n",
    "- Executive Summary: Key findings in brief\n",
    "- Background/Context: Why this topic matters\n",
    "- Main Findings: Organized by themes or aspects\n",
    "- Different Perspectives: Contrasting viewpoints if applicable\n",
    "- Conclusion: Balanced summary of the research\n",
    "\n",
    "Remember: You're not advocating for any position - you're gathering and presenting information objectively.\"\"\"\n",
    "\n"
   ]
  },
  {
   "cell_type": "markdown",
   "id": "06728639-bc02-475b-a989-cba795ec9055",
   "metadata": {},
   "source": [
    "## Execute Research Task"
   ]
  },
  {
   "cell_type": "code",
   "execution_count": 5,
   "id": "d8d93230-89ff-430d-a273-8b7cb161c55d",
   "metadata": {},
   "outputs": [],
   "source": [
    "def run_research_agent(research_topic: str, max_iterations: int = 2):\n",
    "    \"\"\"Run the research agent with a given topic\"\"\"\n",
    "    \n",
    "    messages = [\n",
    "        {\"role\": \"system\", \"content\": RESEARCH_AGENT_PROMPT},\n",
    "        {\"role\": \"user\", \"content\": f\"Please research the following topic: {research_topic}\"}\n",
    "    ]\n",
    "    \n",
    "    print(f\"\\n🤖 Research Agent starting research on: '{research_topic}'\\n\")\n",
    "    print(\"=\" * 80)\n",
    "    \n",
    "    iteration = 0\n",
    "    while iteration < max_iterations:\n",
    "        iteration += 1\n",
    "        print(f\"\\n--- Iteration {iteration} ---\")\n",
    "        \n",
    "        # Get model response\n",
    "        response = openai_client.chat.completions.create(\n",
    "            model=\"model\",\n",
    "            messages=messages,\n",
    "            tools=tool_schemas,\n",
    "            tool_choice=\"auto\",\n",
    "            stream=False  # For simplicity, not streaming in this example\n",
    "        )\n",
    "        \n",
    "        choice = response.choices[0]\n",
    "        assistant_message = choice.message\n",
    "        \n",
    "        # Add assistant's response to conversation\n",
    "        messages.append({\n",
    "            \"role\": \"assistant\",\n",
    "            \"content\": assistant_message.content,\n",
    "            \"tool_calls\": assistant_message.tool_calls if assistant_message.tool_calls else None\n",
    "        })\n",
    "        \n",
    "        # Print any reasoning/content\n",
    "        if assistant_message.content:\n",
    "            print(f\"\\n💭 Agent thinking: {assistant_message.content[:200]}...\")\n",
    "        \n",
    "        # Check if we're done (no tool calls)\n",
    "        if choice.finish_reason == \"stop\" and not assistant_message.tool_calls:\n",
    "            print(\"\\n✅ Research complete!\")\n",
    "            break\n",
    "        \n",
    "        # Execute tool calls\n",
    "        if assistant_message.tool_calls:\n",
    "            for tool_call in assistant_message.tool_calls:\n",
    "                function_name = tool_call.function.name\n",
    "                function_args = json.loads(tool_call.function.arguments)\n",
    "                \n",
    "                print(f\"\\n🛠️  Executing: {function_name}\")\n",
    "                print(f\"   Args: {function_args}\")\n",
    "                \n",
    "                # Execute the tool\n",
    "                tool_response = tool_registry[function_name](**function_args)\n",
    "                \n",
    "                # Add tool response to conversation\n",
    "                messages.append({\n",
    "                    \"role\": \"tool\",\n",
    "                    \"tool_call_id\": tool_call.id,\n",
    "                    \"name\": function_name,\n",
    "                    \"content\": json.dumps(tool_response)\n",
    "                })\n",
    "                \n",
    "                # Show abbreviated response\n",
    "                if function_name == \"web_search\":\n",
    "                    print(f\"   Found {len(tool_response.get('results', []))} results\")\n",
    "                elif function_name == \"create_report\":\n",
    "                    print(f\"   Report created: {tool_response.get('filename', 'unknown')}\")\n",
    "    \n",
    "    print(\"\\n\" + \"=\" * 80)\n",
    "    print(\"🏁 Research agent task completed!\")\n",
    "    \n",
    "    return messages"
   ]
  },
  {
   "cell_type": "code",
   "execution_count": 11,
   "id": "755e5f18-f90c-42c5-8e0f-b396e6e2b56b",
   "metadata": {},
   "outputs": [
    {
     "name": "stdout",
     "output_type": "stream",
     "text": [
      "\n",
      "🤖 Research Agent starting research on: 'ideal customer profile of BlueAlly'\n",
      "\n",
      "================================================================================\n",
      "\n",
      "--- Iteration 1 ---\n"
     ]
    },
    {
     "name": "stderr",
     "output_type": "stream",
     "text": [
      "2025-06-11 12:16:34,761 - httpx - INFO - HTTP Request: POST http://34.230.49.204:51105/v1/chat/completions \"HTTP/1.1 200 OK\"\n"
     ]
    },
    {
     "name": "stdout",
     "output_type": "stream",
     "text": [
      "\n",
      "💭 Agent thinking: \n",
      "\n",
      "...\n",
      "\n",
      "🛠️  Executing: web_search\n",
      "   Args: {'query': 'BlueAlly ideal customer profile target industries'}\n",
      "\n",
      "🔍 Searching for: 'BlueAlly ideal customer profile target industries'\n",
      "   Found 5 results\n",
      "\n",
      "--- Iteration 2 ---\n"
     ]
    },
    {
     "name": "stderr",
     "output_type": "stream",
     "text": [
      "2025-06-11 12:16:59,852 - httpx - INFO - HTTP Request: POST http://34.230.49.204:51105/v1/chat/completions \"HTTP/1.1 200 OK\"\n"
     ]
    },
    {
     "name": "stdout",
     "output_type": "stream",
     "text": [
      "\n",
      "💭 Agent thinking: \n",
      "\n",
      "...\n",
      "\n",
      "🛠️  Executing: create_report\n",
      "   Args: {'title': 'Ideal Customer Profile of BlueAlly', 'sections': {'Executive Summary': 'BlueAlly, a cybersecurity solutions provider, targets organizations in high-regulation industries such as government, healthcare, and finance. Their ideal customer profile (ICP) includes mid-to-large enterprises requiring scalable cybersecurity infrastructure, compliance support, and threat intelligence. Key pain points addressed include data protection, regulatory compliance, and operational efficiency.', 'Background/Context': 'BlueAlly specializes in cybersecurity services, including network defense, cloud security, and compliance management. Their focus on government and commercial clients highlights their alignment with sectors facing stringent data protection requirements and evolving cyber threats.', 'Main Findings': '1. **Target Industries**: Government agencies, healthcare providers, financial institutions, and defense contractors.\\n2. **Company Size**: Mid-sized to large enterprises with complex IT environments.\\n3. **Pain Points**: Data breaches, compliance challenges (e.g., HIPAA, GDPR), and resource constraints in cybersecurity teams.\\n4. **Value Proposition**: BlueAlly offers tailored solutions to enhance threat detection, ensure regulatory compliance, and reduce operational risks.', 'Different Perspectives': 'While some organizations prioritize cost-effective cybersecurity solutions, BlueAlly’s ICP emphasizes clients willing to invest in comprehensive, proactive security measures. This contrasts with smaller businesses focusing on basic compliance rather than advanced threat mitigation.', 'Conclusion': 'BlueAlly’s ICP is defined by clients in high-stakes industries seeking robust, scalable cybersecurity solutions. Their focus on compliance, threat intelligence, and enterprise-scale needs positions them to address critical challenges in regulated sectors.'}}\n",
      "\n",
      "📝 Creating report: 'Ideal Customer Profile of BlueAlly'\n",
      "   Report created: research_report_1749658619.md\n",
      "\n",
      "================================================================================\n",
      "🏁 Research agent task completed!\n"
     ]
    }
   ],
   "source": [
    "# Example usage\n",
    "research_topic = \"ideal customer profile of BlueAlly\"\n",
    "conversation_history = run_research_agent(research_topic)"
   ]
  },
  {
   "cell_type": "code",
   "execution_count": null,
   "id": "be3661ef-a4a0-4038-a863-e0a133a239fa",
   "metadata": {},
   "outputs": [],
   "source": []
  }
 ],
 "metadata": {
  "kernelspec": {
   "display_name": ".venv",
   "language": "python",
   "name": "python3"
  },
  "language_info": {
   "codemirror_mode": {
    "name": "ipython",
    "version": 3
   },
   "file_extension": ".py",
   "mimetype": "text/x-python",
   "name": "python",
   "nbconvert_exporter": "python",
   "pygments_lexer": "ipython3",
   "version": "3.10.18"
  }
 },
 "nbformat": 4,
 "nbformat_minor": 5
}
