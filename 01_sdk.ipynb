{
 "cells": [
  {
   "cell_type": "code",
   "execution_count": 1,
   "id": "f8a0efa3-1289-4430-8506-a806345e79c4",
   "metadata": {},
   "outputs": [],
   "source": [
    "from kamiwaza_client import KamiwazaClient\n",
    "import openai\n",
    "from pydantic import BaseModel"
   ]
  },
  {
   "cell_type": "code",
   "execution_count": null,
   "id": "ebc0516b-e1b0-4b1b-af7b-badcad0be694",
   "metadata": {},
   "outputs": [
    {
     "data": {
      "text/plain": [
       "[ActiveModelDeployment(id=UUID('9974c1d7-444d-4f78-9bf6-30ecef701d43'), m_id=UUID('c45afd07-17b5-4509-b026-33c43e3b5467'), m_name='Qwen3-32B-AWQ', status='DEPLOYED', instances=[ModelInstance:\n",
       " ID: 70b4c6ea-41fa-458a-8e0a-2555c262a654\n",
       " Deployment ID: 9974c1d7-444d-4f78-9bf6-30ecef701d43\n",
       " Status: DEPLOYED\n",
       " Listen Port: 32775], lb_port=51105, endpoint='http://localhost:51105/v1')]"
      ]
     },
     "execution_count": 2,
     "metadata": {},
     "output_type": "execute_result"
    }
   ],
   "source": [
    "client = KamiwazaClient(\"http://34.230.49.204:7777/api/\")\n",
    "client.serving.list_active_deployments()"
   ]
  },
  {
   "cell_type": "code",
   "execution_count": 3,
   "id": "2be53a96-0720-4f4a-b981-8a1ce5ebc7c7",
   "metadata": {},
   "outputs": [],
   "source": [
    "openai_client = client.openai.get_client('Qwen3-32B-AWQ')"
   ]
  },
  {
   "cell_type": "code",
   "execution_count": null,
   "id": "c8e34cd4-40cb-4c8e-95ab-ac9f4e3ca459",
   "metadata": {},
   "outputs": [],
   "source": []
  }
 ],
 "metadata": {
  "kernelspec": {
   "display_name": ".venv",
   "language": "python",
   "name": "python3"
  },
  "language_info": {
   "codemirror_mode": {
    "name": "ipython",
    "version": 3
   },
   "file_extension": ".py",
   "mimetype": "text/x-python",
   "name": "python",
   "nbconvert_exporter": "python",
   "pygments_lexer": "ipython3",
   "version": "3.10.18"
  }
 },
 "nbformat": 4,
 "nbformat_minor": 5
}
